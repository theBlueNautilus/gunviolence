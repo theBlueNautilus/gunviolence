{
  "nbformat": 4,
  "nbformat_minor": 0,
  "metadata": {
    "colab": {
      "provenance": [],
      "include_colab_link": true
    },
    "kernelspec": {
      "name": "python3",
      "display_name": "Python 3"
    },
    "language_info": {
      "name": "python"
    }
  },
  "cells": [
    {
      "cell_type": "markdown",
      "metadata": {
        "id": "view-in-github",
        "colab_type": "text"
      },
      "source": [
        "<a href=\"https://colab.research.google.com/github/theBlueNautilus/gunviolence/blob/main/Viol%C3%AAncia_Escolar.ipynb\" target=\"_parent\"><img src=\"https://colab.research.google.com/assets/colab-badge.svg\" alt=\"Open In Colab\"/></a>"
      ]
    },
    {
      "cell_type": "markdown",
      "source": [
        "<a href=\"TAIL\"><img src=\"https://i.imgur.com/GRTE0OG.png\" width=\"150\" title=\"Tail Logo\" /></a>\n",
        "\n",
        "# <font color =\"#00b8ff\">Análise de Violência Escolar</font>\n",
        "## <font color =\"#00b8ff\">Trainees - 2022.2</font>"
      ],
      "metadata": {
        "id": "JFB8z8ya0tUW"
      }
    },
    {
      "cell_type": "markdown",
      "source": [
        "\n",
        "\n",
        "```\n",
        "# Isto está formatado como código\n",
        "```\n",
        "\n",
        "## <font color =\"#00b8ff\">1. Introdução</font>\n",
        "\n",
        "Fornecer um contexto do problema, trazer dados sobre violência escolar com armas, esclarecer os objetivos do trabalho, informar de onde pegamos o notebook e sua credibilidade, descrever as colunas do dataset, etc"
      ],
      "metadata": {
        "id": "MzAG-w2g1GOT"
      }
    },
    {
      "cell_type": "code",
      "source": [
        "import pandas as pd\n",
        "import matplotlib.pyplot as plt"
      ],
      "metadata": {
        "id": "WkR0Ljajf3C5"
      },
      "execution_count": null,
      "outputs": []
    },
    {
      "cell_type": "code",
      "source": [
        "# Importando 4 abas do arquivo de excel\n",
        "# As abas dos datasets são: incidente, atirador, vítima, arma.\n",
        "\n",
        "df_incid = pd.read_excel(\"https://github.com/mariliabrito/gunviolence/blob/main/SSDB_Raw_Data_2022.xlsx?raw=true\", sheet_name=1, parse_dates=[\"Date\"]) #Rafael, Gisele e Dantas (Marília)\n",
        "df_shoot = pd.read_excel(\"https://github.com/mariliabrito/gunviolence/blob/main/SSDB_Raw_Data_2022.xlsx?raw=true\", sheet_name=2) #Hermano e Duda (Jonas)\n",
        "df_victm = pd.read_excel(\"https://github.com/mariliabrito/gunviolence/blob/main/SSDB_Raw_Data_2022.xlsx?raw=true\", sheet_name=3) #Hermano e Duda (Jonas)\n",
        "df_weapn = pd.read_excel(\"https://github.com/mariliabrito/gunviolence/blob/main/SSDB_Raw_Data_2022.xlsx?raw=true\", sheet_name=4) #Rafael, Gisele e Dantas (Marília)"
      ],
      "metadata": {
        "id": "hL6SophSf74n"
      },
      "execution_count": null,
      "outputs": []
    },
    {
      "cell_type": "code",
      "source": [
        "df_shoot.describe(include='all') #Esse comando inclui TODAS as colunas do referido dataset."
      ],
      "metadata": {
        "id": "Xzvo-OiF6Qvb"
      },
      "execution_count": null,
      "outputs": []
    },
    {
      "cell_type": "code",
      "source": [
        "df_weapn.describe(include='all') "
      ],
      "metadata": {
        "id": "RlZgGM7l6-pM"
      },
      "execution_count": null,
      "outputs": []
    },
    {
      "cell_type": "code",
      "source": [
        "df_victm.describe(include='all') "
      ],
      "metadata": {
        "id": "JV51kOpp6y1-"
      },
      "execution_count": null,
      "outputs": []
    },
    {
      "cell_type": "code",
      "source": [
        "df_incid.describe(include='all') "
      ],
      "metadata": {
        "id": "ZlwlIodr8nEl"
      },
      "execution_count": null,
      "outputs": []
    },
    {
      "cell_type": "code",
      "source": [
        "df_incid.head()"
      ],
      "metadata": {
        "id": "fYdmLyec0ysy"
      },
      "execution_count": null,
      "outputs": []
    },
    {
      "cell_type": "code",
      "source": [
        "df_incid.info()"
      ],
      "metadata": {
        "id": "LQMKAoJr1prm"
      },
      "execution_count": null,
      "outputs": []
    },
    {
      "cell_type": "code",
      "source": [
        "df_shoot.head()"
      ],
      "metadata": {
        "id": "g9NXI-Pl1C1m"
      },
      "execution_count": null,
      "outputs": []
    },
    {
      "cell_type": "code",
      "source": [
        "df_victm.head()"
      ],
      "metadata": {
        "id": "MZt3F1gu1Pt0"
      },
      "execution_count": null,
      "outputs": []
    },
    {
      "cell_type": "code",
      "source": [
        "df_weapn.head()"
      ],
      "metadata": {
        "id": "bq99WdxE1avQ"
      },
      "execution_count": null,
      "outputs": []
    },
    {
      "cell_type": "markdown",
      "source": [
        "## <font color =\"#00b8ff\">2. Limpeza</font>\n",
        "\n",
        "Realizar limpeza e uniformização do dataset. Também é possível juntar datasets pela coluna incidentid."
      ],
      "metadata": {
        "id": "t5HwnisD1zbC"
      }
    },
    {
      "cell_type": "code",
      "source": [
        "#Removendo valores duplicados caso existam\n",
        "df_incid = df_incid.drop_duplicates()\n",
        "df_shoot = df_shoot.drop_duplicates()\n",
        "df_victm = df_victm.drop_duplicates()\n",
        "df_weapn = df_weapn.drop_duplicates()\n",
        "\n",
        "#Verificando\n",
        "print(df_incid.isnull().sum())\n",
        "print(\"=\"*27)\n",
        "print(df_shoot.isnull().sum())\n",
        "print(\"=\"*27)\n",
        "print(df_victm.isnull().sum())\n",
        "print(\"=\"*27)\n",
        "print(df_weapn.isnull().sum())\n"
      ],
      "metadata": {
        "id": "deAGEyDe1EdW"
      },
      "execution_count": null,
      "outputs": []
    },
    {
      "cell_type": "code",
      "source": [
        "#O tratamento de variáveis de tipo String do dataset 'Incidentes':\n",
        "colunas_string=['Number_News','Media_Attention','School','School_Level','Location','Location_Type','During_School','First_Shot','Narrative','Situation','Targets','Accomplice','Hostages','Barricade','Officer_Involved','Bullied','Domestic_Violence','Gang_Related','Preplanned','Shots_Fired','Active_Shooter_FBI']\n",
        "\n",
        "df_incid[colunas_string] = df_incid[colunas_string].fillna(\"Unknown\")\n",
        "\n",
        "#O tratamento de variáveis de tipo numérico, substituindo os valores nulos por 0.\n",
        "df_incid['Reliability'] = df_incid['Reliability'].fillna(-1)\n",
        "df_incid.isnull().sum()\n",
        "\n",
        "#O tratamento da coluna de estações\n",
        "seasons_dict = {\n",
        "    1: 'Winter',\n",
        "    2: 'Winter',\n",
        "    3: 'Spring',\n",
        "    4: 'Spring',\n",
        "    5: 'Spring',\n",
        "    6: 'Summer',\n",
        "    7: 'Summer',\n",
        "    8: 'Summer',\n",
        "    9: 'Fall',\n",
        "    10: 'Fall',\n",
        "    11: 'Fall',\n",
        "    12: 'Winter'\n",
        "}\n",
        "\n",
        "df_incid['Quarter'] = pd.to_datetime(df_incid['Date']).dt.month.map(seasons_dict)\n",
        "\n",
        "def get_time_period(time_string):                             #Tentando preencher os períodos do dia com null a partir da hora do primeiro tiro\n",
        "    if ':' in time_string:\n",
        "        hour = int(time_string.split(':')[0])\n",
        "        if hour < 12 and hour < 6:\n",
        "          return 'Night'\n",
        "        if hour < 12:\n",
        "            return 'Morning'\n",
        "        elif hour < 18:\n",
        "            return 'Afternoon'\n",
        "        else:\n",
        "            return 'Night'\n",
        "    else:\n",
        "        if 'AM' in time_string:\n",
        "            return 'Morning'\n",
        "        else:\n",
        "            return 'Afternoon/Night'\n",
        "\n",
        "df_incid['Time_Period'].fillna(df_incid['First_Shot'].apply(get_time_period), inplace=True)\n",
        "\n",
        "df_incid = df_incid.fillna('Unknown') #preenchendo o restante com 'Unknown'"
      ],
      "metadata": {
        "id": "SJ3snxdZG-d9"
      },
      "execution_count": null,
      "outputs": []
    },
    {
      "cell_type": "code",
      "source": [
        "#Nomeando meses\n",
        "month_names = {\n",
        "    1: 'Janeiro',\n",
        "    2: 'Fevereiro',\n",
        "    3: 'Março',\n",
        "    4: 'Abril',\n",
        "    5: 'Maio',\n",
        "    6: 'Junho',\n",
        "    7: 'Julho',\n",
        "    8: 'Agosto',\n",
        "    9: 'Setembro',\n",
        "    10: 'Outubro',\n",
        "    11: 'Novembro',\n",
        "    12: 'Dezembro'\n",
        "}"
      ],
      "metadata": {
        "id": "3r2XlV6Q0Qlo"
      },
      "execution_count": null,
      "outputs": []
    },
    {
      "cell_type": "code",
      "source": [
        "# Extraindo ano, mês e dia do dataset\n",
        "df_incid['Year'] = df_incid['Date'].dt.year\n",
        "df_incid['Month'] = pd.to_datetime(df_incid['Date']).dt.month.map(month_names)\n",
        "df_incid['Day'] = df_incid['Date'].dt.day"
      ],
      "metadata": {
        "id": "FFJ_kZfJ16oG"
      },
      "execution_count": null,
      "outputs": []
    },
    {
      "cell_type": "code",
      "source": [
        "df_incid['Time_Period'].value_counts()"
      ],
      "metadata": {
        "id": "d9xr5RvNzFwQ"
      },
      "execution_count": null,
      "outputs": []
    },
    {
      "cell_type": "code",
      "source": [
        "df_incid['Quarter'].value_counts()"
      ],
      "metadata": {
        "id": "68Tb3oCyK6SL"
      },
      "execution_count": null,
      "outputs": []
    },
    {
      "cell_type": "code",
      "source": [
        "df_shoot.describe()"
      ],
      "metadata": {
        "id": "12g51O6oC3V1"
      },
      "execution_count": null,
      "outputs": []
    },
    {
      "cell_type": "code",
      "source": [
        "df_weapn.describe()"
      ],
      "metadata": {
        "id": "-E-mjxg7DJ-h"
      },
      "execution_count": null,
      "outputs": []
    },
    {
      "cell_type": "code",
      "source": [
        "df_weapn[\"weaponcaliber\"].value_counts()"
      ],
      "metadata": {
        "id": "I-9vYl9oxNa5"
      },
      "execution_count": null,
      "outputs": []
    },
    {
      "cell_type": "code",
      "source": [
        "df_weapn.loc[df_weapn[\"weaponcaliber\"] == '.22 caliber ',\"weaponcaliber\"] = '.22 caliber' #renomeando o .22 que estava com um espaço no final\n",
        "df_weapn.loc[df_weapn[\"weaponcaliber\"] == 'airsoft',\"weaponcaliber\"] = 'Airsoft' #renomeando os \"airsoft\" minúsculos\n",
        "df_weapn.loc[df_weapn[\"weaponcaliber\"] == 'Service weapon',\"weaponcaliber\"] = 'Service Weapon' "
      ],
      "metadata": {
        "id": "CjIFOraewZS4"
      },
      "execution_count": null,
      "outputs": []
    },
    {
      "cell_type": "code",
      "source": [
        "df_weapn[\"weaponcaliber\"].value_counts()"
      ],
      "metadata": {
        "id": "clT8jNdqw-E_"
      },
      "execution_count": null,
      "outputs": []
    },
    {
      "cell_type": "code",
      "source": [
        "df_weapn[\"weaponcaliber\"].unique()\n"
      ],
      "metadata": {
        "id": "V6Nf4QLYepUB"
      },
      "execution_count": null,
      "outputs": []
    },
    {
      "cell_type": "code",
      "source": [
        "df_shoot = df_shoot.fillna('Unknown') #Preenchendo as informações nulas da aba atirador\n",
        "df_weapn = df_weapn.fillna('Unknown') #Preenchendo as informações nulas da aba arma"
      ],
      "metadata": {
        "id": "RbfYtiGBotNU"
      },
      "execution_count": null,
      "outputs": []
    },
    {
      "cell_type": "code",
      "source": [
        "df_shoot.isnull().sum() "
      ],
      "metadata": {
        "id": "BeNSrcVrzB-N"
      },
      "execution_count": null,
      "outputs": []
    },
    {
      "cell_type": "code",
      "source": [
        "#Preenchendo os valores nulos da coluna de gênero com Unknown\n",
        "df_victm['gender'] = df_victm['gender'].fillna('Unknown') \n",
        "df_victm['schoolaffiliation'] = df_victm['schoolaffiliation'].fillna('Unknown')\n",
        "df_victm['race'] = df_victm['race'].fillna('Unknown')"
      ],
      "metadata": {
        "id": "fvNdo2VDuQKw"
      },
      "execution_count": null,
      "outputs": []
    },
    {
      "cell_type": "code",
      "source": [
        "df_shoot[\"age\"].unique()"
      ],
      "metadata": {
        "id": "zXnQCqIHTult"
      },
      "execution_count": null,
      "outputs": []
    },
    {
      "cell_type": "code",
      "source": [
        "#Classificando as vítimas em Adulto, Adolescente e Criança\n",
        "def classify_age(age):\n",
        "    if isinstance(age, str):\n",
        "        if age.strip() == '':\n",
        "            return 'Unknown'\n",
        "        else:\n",
        "            return age\n",
        "    else:\n",
        "        if age < 0:\n",
        "            return 'Invalid'\n",
        "        elif age <= 12:\n",
        "            return 'Child'\n",
        "        elif age <= 20:\n",
        "            return 'Teen'\n",
        "        elif age >20:\n",
        "            return 'Adult'\n",
        "        else:\n",
        "          return 'Unknown'\n",
        "\n",
        "df_incid['age'] = pd.to_numeric(df_shoot['age'], errors='coerce')\n",
        "df_incid['ageclass'] = df_incid['age'].apply(classify_age)\n",
        "df_incid['ageclass'].value_counts()"
      ],
      "metadata": {
        "colab": {
          "base_uri": "https://localhost:8080/"
        },
        "id": "1ZlgUX0y-917",
        "outputId": "e895fbca-1cc4-441a-f42d-1f37ec8ccecb"
      },
      "execution_count": 106,
      "outputs": [
        {
          "output_type": "execute_result",
          "data": {
            "text/plain": [
              "Teen       912\n",
              "Unknown    820\n",
              "Adult      281\n",
              "Child       56\n",
              "Name: ageclass, dtype: int64"
            ]
          },
          "metadata": {},
          "execution_count": 106
        }
      ]
    },
    {
      "cell_type": "code",
      "source": [
        "#Classificando as vítimas em Adulto, Adolescente e Criança\n",
        "def classify_age(age):\n",
        "    if isinstance(age, str):\n",
        "        if age.strip() == '':\n",
        "            return 'Unknown'\n",
        "        else:\n",
        "            return age\n",
        "    else:\n",
        "        if age < 0:\n",
        "            return 'Invalid'\n",
        "        elif age <= 12:\n",
        "            return 'Child'\n",
        "        elif age <= 19:\n",
        "            return 'Teen'\n",
        "        else:\n",
        "            return 'Adult'\n",
        "\n",
        "df_victm['age'] = pd.to_numeric(df_victm['age'], errors='coerce')\n",
        "df_victm['ageclass'] = df_victm['age'].apply(classify_age)\n",
        "\n",
        "df_victm"
      ],
      "metadata": {
        "id": "yunHPS2WZViT",
        "colab": {
          "base_uri": "https://localhost:8080/",
          "height": 423
        },
        "outputId": "59d98aa2-3ab3-4986-a2c1-705c91d4edd9"
      },
      "execution_count": 103,
      "outputs": [
        {
          "output_type": "execute_result",
          "data": {
            "text/plain": [
              "         incidentid     race   injury  gender schoolaffiliation   age  \\\n",
              "0     20220620ILGRC  Unknown  Wounded  Female       No Relation  34.0   \n",
              "1     20220620ILGRC  Unknown  Wounded    Male       No Relation  16.0   \n",
              "2     20220620ILGRC  Unknown  Wounded  Female       No Relation  17.0   \n",
              "3     20220609ALWAG    Black    Fatal    Male       No Relation  32.0   \n",
              "4     20220605INWEG  Unknown  Wounded    Male           Unknown  19.0   \n",
              "...             ...      ...      ...     ...               ...   ...   \n",
              "3094  19700323CADAL  Unknown  Wounded    Male           Student  16.0   \n",
              "3095  19700206OHJOC  Unknown  Wounded    Male           Student  18.0   \n",
              "3096  19700105DCUNW  Unknown     None    Male           Unknown  16.0   \n",
              "3097  19700105DCSOW  Unknown  Wounded    Male           Student   NaN   \n",
              "3098  19700105DCHIW  Unknown    Fatal    Male           Student  15.0   \n",
              "\n",
              "     ageclass  ageinterp  \n",
              "0       Adult       34.0  \n",
              "1        Teen       16.0  \n",
              "2        Teen       17.0  \n",
              "3       Adult       32.0  \n",
              "4        Teen       19.0  \n",
              "...       ...        ...  \n",
              "3094     Teen       16.0  \n",
              "3095     Teen       18.0  \n",
              "3096     Teen       16.0  \n",
              "3097    Adult       16.0  \n",
              "3098     Teen       15.0  \n",
              "\n",
              "[2489 rows x 8 columns]"
            ],
            "text/html": [
              "\n",
              "  <div id=\"df-56a62111-dcf7-496a-a454-884af06f6092\">\n",
              "    <div class=\"colab-df-container\">\n",
              "      <div>\n",
              "<style scoped>\n",
              "    .dataframe tbody tr th:only-of-type {\n",
              "        vertical-align: middle;\n",
              "    }\n",
              "\n",
              "    .dataframe tbody tr th {\n",
              "        vertical-align: top;\n",
              "    }\n",
              "\n",
              "    .dataframe thead th {\n",
              "        text-align: right;\n",
              "    }\n",
              "</style>\n",
              "<table border=\"1\" class=\"dataframe\">\n",
              "  <thead>\n",
              "    <tr style=\"text-align: right;\">\n",
              "      <th></th>\n",
              "      <th>incidentid</th>\n",
              "      <th>race</th>\n",
              "      <th>injury</th>\n",
              "      <th>gender</th>\n",
              "      <th>schoolaffiliation</th>\n",
              "      <th>age</th>\n",
              "      <th>ageclass</th>\n",
              "      <th>ageinterp</th>\n",
              "    </tr>\n",
              "  </thead>\n",
              "  <tbody>\n",
              "    <tr>\n",
              "      <th>0</th>\n",
              "      <td>20220620ILGRC</td>\n",
              "      <td>Unknown</td>\n",
              "      <td>Wounded</td>\n",
              "      <td>Female</td>\n",
              "      <td>No Relation</td>\n",
              "      <td>34.0</td>\n",
              "      <td>Adult</td>\n",
              "      <td>34.0</td>\n",
              "    </tr>\n",
              "    <tr>\n",
              "      <th>1</th>\n",
              "      <td>20220620ILGRC</td>\n",
              "      <td>Unknown</td>\n",
              "      <td>Wounded</td>\n",
              "      <td>Male</td>\n",
              "      <td>No Relation</td>\n",
              "      <td>16.0</td>\n",
              "      <td>Teen</td>\n",
              "      <td>16.0</td>\n",
              "    </tr>\n",
              "    <tr>\n",
              "      <th>2</th>\n",
              "      <td>20220620ILGRC</td>\n",
              "      <td>Unknown</td>\n",
              "      <td>Wounded</td>\n",
              "      <td>Female</td>\n",
              "      <td>No Relation</td>\n",
              "      <td>17.0</td>\n",
              "      <td>Teen</td>\n",
              "      <td>17.0</td>\n",
              "    </tr>\n",
              "    <tr>\n",
              "      <th>3</th>\n",
              "      <td>20220609ALWAG</td>\n",
              "      <td>Black</td>\n",
              "      <td>Fatal</td>\n",
              "      <td>Male</td>\n",
              "      <td>No Relation</td>\n",
              "      <td>32.0</td>\n",
              "      <td>Adult</td>\n",
              "      <td>32.0</td>\n",
              "    </tr>\n",
              "    <tr>\n",
              "      <th>4</th>\n",
              "      <td>20220605INWEG</td>\n",
              "      <td>Unknown</td>\n",
              "      <td>Wounded</td>\n",
              "      <td>Male</td>\n",
              "      <td>Unknown</td>\n",
              "      <td>19.0</td>\n",
              "      <td>Teen</td>\n",
              "      <td>19.0</td>\n",
              "    </tr>\n",
              "    <tr>\n",
              "      <th>...</th>\n",
              "      <td>...</td>\n",
              "      <td>...</td>\n",
              "      <td>...</td>\n",
              "      <td>...</td>\n",
              "      <td>...</td>\n",
              "      <td>...</td>\n",
              "      <td>...</td>\n",
              "      <td>...</td>\n",
              "    </tr>\n",
              "    <tr>\n",
              "      <th>3094</th>\n",
              "      <td>19700323CADAL</td>\n",
              "      <td>Unknown</td>\n",
              "      <td>Wounded</td>\n",
              "      <td>Male</td>\n",
              "      <td>Student</td>\n",
              "      <td>16.0</td>\n",
              "      <td>Teen</td>\n",
              "      <td>16.0</td>\n",
              "    </tr>\n",
              "    <tr>\n",
              "      <th>3095</th>\n",
              "      <td>19700206OHJOC</td>\n",
              "      <td>Unknown</td>\n",
              "      <td>Wounded</td>\n",
              "      <td>Male</td>\n",
              "      <td>Student</td>\n",
              "      <td>18.0</td>\n",
              "      <td>Teen</td>\n",
              "      <td>18.0</td>\n",
              "    </tr>\n",
              "    <tr>\n",
              "      <th>3096</th>\n",
              "      <td>19700105DCUNW</td>\n",
              "      <td>Unknown</td>\n",
              "      <td>None</td>\n",
              "      <td>Male</td>\n",
              "      <td>Unknown</td>\n",
              "      <td>16.0</td>\n",
              "      <td>Teen</td>\n",
              "      <td>16.0</td>\n",
              "    </tr>\n",
              "    <tr>\n",
              "      <th>3097</th>\n",
              "      <td>19700105DCSOW</td>\n",
              "      <td>Unknown</td>\n",
              "      <td>Wounded</td>\n",
              "      <td>Male</td>\n",
              "      <td>Student</td>\n",
              "      <td>NaN</td>\n",
              "      <td>Adult</td>\n",
              "      <td>16.0</td>\n",
              "    </tr>\n",
              "    <tr>\n",
              "      <th>3098</th>\n",
              "      <td>19700105DCHIW</td>\n",
              "      <td>Unknown</td>\n",
              "      <td>Fatal</td>\n",
              "      <td>Male</td>\n",
              "      <td>Student</td>\n",
              "      <td>15.0</td>\n",
              "      <td>Teen</td>\n",
              "      <td>15.0</td>\n",
              "    </tr>\n",
              "  </tbody>\n",
              "</table>\n",
              "<p>2489 rows × 8 columns</p>\n",
              "</div>\n",
              "      <button class=\"colab-df-convert\" onclick=\"convertToInteractive('df-56a62111-dcf7-496a-a454-884af06f6092')\"\n",
              "              title=\"Convert this dataframe to an interactive table.\"\n",
              "              style=\"display:none;\">\n",
              "        \n",
              "  <svg xmlns=\"http://www.w3.org/2000/svg\" height=\"24px\"viewBox=\"0 0 24 24\"\n",
              "       width=\"24px\">\n",
              "    <path d=\"M0 0h24v24H0V0z\" fill=\"none\"/>\n",
              "    <path d=\"M18.56 5.44l.94 2.06.94-2.06 2.06-.94-2.06-.94-.94-2.06-.94 2.06-2.06.94zm-11 1L8.5 8.5l.94-2.06 2.06-.94-2.06-.94L8.5 2.5l-.94 2.06-2.06.94zm10 10l.94 2.06.94-2.06 2.06-.94-2.06-.94-.94-2.06-.94 2.06-2.06.94z\"/><path d=\"M17.41 7.96l-1.37-1.37c-.4-.4-.92-.59-1.43-.59-.52 0-1.04.2-1.43.59L10.3 9.45l-7.72 7.72c-.78.78-.78 2.05 0 2.83L4 21.41c.39.39.9.59 1.41.59.51 0 1.02-.2 1.41-.59l7.78-7.78 2.81-2.81c.8-.78.8-2.07 0-2.86zM5.41 20L4 18.59l7.72-7.72 1.47 1.35L5.41 20z\"/>\n",
              "  </svg>\n",
              "      </button>\n",
              "      \n",
              "  <style>\n",
              "    .colab-df-container {\n",
              "      display:flex;\n",
              "      flex-wrap:wrap;\n",
              "      gap: 12px;\n",
              "    }\n",
              "\n",
              "    .colab-df-convert {\n",
              "      background-color: #E8F0FE;\n",
              "      border: none;\n",
              "      border-radius: 50%;\n",
              "      cursor: pointer;\n",
              "      display: none;\n",
              "      fill: #1967D2;\n",
              "      height: 32px;\n",
              "      padding: 0 0 0 0;\n",
              "      width: 32px;\n",
              "    }\n",
              "\n",
              "    .colab-df-convert:hover {\n",
              "      background-color: #E2EBFA;\n",
              "      box-shadow: 0px 1px 2px rgba(60, 64, 67, 0.3), 0px 1px 3px 1px rgba(60, 64, 67, 0.15);\n",
              "      fill: #174EA6;\n",
              "    }\n",
              "\n",
              "    [theme=dark] .colab-df-convert {\n",
              "      background-color: #3B4455;\n",
              "      fill: #D2E3FC;\n",
              "    }\n",
              "\n",
              "    [theme=dark] .colab-df-convert:hover {\n",
              "      background-color: #434B5C;\n",
              "      box-shadow: 0px 1px 3px 1px rgba(0, 0, 0, 0.15);\n",
              "      filter: drop-shadow(0px 1px 2px rgba(0, 0, 0, 0.3));\n",
              "      fill: #FFFFFF;\n",
              "    }\n",
              "  </style>\n",
              "\n",
              "      <script>\n",
              "        const buttonEl =\n",
              "          document.querySelector('#df-56a62111-dcf7-496a-a454-884af06f6092 button.colab-df-convert');\n",
              "        buttonEl.style.display =\n",
              "          google.colab.kernel.accessAllowed ? 'block' : 'none';\n",
              "\n",
              "        async function convertToInteractive(key) {\n",
              "          const element = document.querySelector('#df-56a62111-dcf7-496a-a454-884af06f6092');\n",
              "          const dataTable =\n",
              "            await google.colab.kernel.invokeFunction('convertToInteractive',\n",
              "                                                     [key], {});\n",
              "          if (!dataTable) return;\n",
              "\n",
              "          const docLinkHtml = 'Like what you see? Visit the ' +\n",
              "            '<a target=\"_blank\" href=https://colab.research.google.com/notebooks/data_table.ipynb>data table notebook</a>'\n",
              "            + ' to learn more about interactive tables.';\n",
              "          element.innerHTML = '';\n",
              "          dataTable['output_type'] = 'display_data';\n",
              "          await google.colab.output.renderOutput(dataTable, element);\n",
              "          const docLink = document.createElement('div');\n",
              "          docLink.innerHTML = docLinkHtml;\n",
              "          element.appendChild(docLink);\n",
              "        }\n",
              "      </script>\n",
              "    </div>\n",
              "  </div>\n",
              "  "
            ]
          },
          "metadata": {},
          "execution_count": 103
        }
      ]
    },
    {
      "cell_type": "code",
      "source": [
        "df_victm['age'].hist() #analisando a distribuição "
      ],
      "metadata": {
        "id": "9y9RttxLh1Uq",
        "colab": {
          "base_uri": "https://localhost:8080/",
          "height": 447
        },
        "outputId": "6e370c41-6cb7-4bd8-91ca-ec941b8f8fca"
      },
      "execution_count": null,
      "outputs": [
        {
          "output_type": "execute_result",
          "data": {
            "text/plain": [
              "<Axes: >"
            ]
          },
          "metadata": {},
          "execution_count": 99
        },
        {
          "output_type": "display_data",
          "data": {
            "text/plain": [
              "<Figure size 640x480 with 1 Axes>"
            ],
            "image/png": "[encoded data removed]"
          },
          "metadata": {}
        }
      ]
    },
    {
      "cell_type": "code",
      "source": [
        "nan_interpol = df_victm['age'].fillna(df_victm['age'].interpolate(method='nearest')) #verificando a coerência da interpolação das idades\n",
        "print(nan_interpol.hist())\n",
        "df_victm['ageinterp'] = df_victm['age'].fillna(df_victm['age'].interpolate(method='nearest'))"
      ],
      "metadata": {
        "id": "gTMt36MFvWZy",
        "colab": {
          "base_uri": "https://localhost:8080/",
          "height": 447
        },
        "outputId": "ec5f8ffc-6352-415c-9ea7-b99af061fb99"
      },
      "execution_count": null,
      "outputs": [
        {
          "output_type": "stream",
          "name": "stdout",
          "text": [
            "Axes(0.125,0.11;0.775x0.77)\n"
          ]
        },
        {
          "output_type": "display_data",
          "data": {
            "text/plain": [
              "<Figure size 640x480 with 1 Axes>"
            ],
            "image/png": "[encoded data removed]"
          },
          "metadata": {}
        }
      ]
    },
    {
      "cell_type": "code",
      "source": [],
      "metadata": {
        "id": "nlfmVZXq74sb"
      },
      "execution_count": null,
      "outputs": []
    },
    {
      "cell_type": "markdown",
      "source": [
        "Verificação final de valores null"
      ],
      "metadata": {
        "id": "-5015UBCB7DE"
      }
    },
    {
      "cell_type": "code",
      "source": [
        "print(df_incid.isnull().sum())\n",
        "print(\"=\"*27)\n",
        "print(df_shoot.isnull().sum())\n",
        "print(\"=\"*27)\n",
        "print(df_victm.isnull().sum()) #Na coluna ['age'] ainda existem valores null pq estes não foram substituídos, preferimos criar uma nova coluna com valores interpolados\n",
        "print(\"=\"*27)\n",
        "print(df_weapn.isnull().sum())"
      ],
      "metadata": {
        "id": "VwbfZbGtBLx4",
        "colab": {
          "base_uri": "https://localhost:8080/"
        },
        "outputId": "933abc76-c1ec-4baa-d7b8-d5f1d5c31029"
      },
      "execution_count": null,
      "outputs": [
        {
          "output_type": "stream",
          "name": "stdout",
          "text": [
            "Incident_ID           0\n",
            "Sources               0\n",
            "Number_News           0\n",
            "Media_Attention       0\n",
            "Reliability           0\n",
            "Date                  0\n",
            "Quarter               0\n",
            "School                0\n",
            "City                  0\n",
            "State                 0\n",
            "School_Level          0\n",
            "Location              0\n",
            "Location_Type         0\n",
            "During_School         0\n",
            "Time_Period           0\n",
            "First_Shot            0\n",
            "Summary               0\n",
            "Narrative             0\n",
            "Situation             0\n",
            "Targets               0\n",
            "Accomplice            0\n",
            "Hostages              0\n",
            "Barricade             0\n",
            "Officer_Involved      0\n",
            "Bullied               0\n",
            "Domestic_Violence     0\n",
            "Gang_Related          0\n",
            "Preplanned            0\n",
            "Shots_Fired           0\n",
            "Active_Shooter_FBI    0\n",
            "Year                  0\n",
            "Month                 0\n",
            "Day                   0\n",
            "dtype: int64\n",
            "===========================\n",
            "incidentid           0\n",
            "age                  0\n",
            "gender               0\n",
            "race                 0\n",
            "schoolaffiliation    0\n",
            "shooteroutcome       0\n",
            "shooterdied          0\n",
            "injury               0\n",
            "chargesfiled         0\n",
            "verdict              0\n",
            "minorchargedadult    0\n",
            "criminalhistory      0\n",
            "dtype: int64\n",
            "===========================\n",
            "incidentid             0\n",
            "race                   0\n",
            "injury                 0\n",
            "gender                 0\n",
            "schoolaffiliation      0\n",
            "age                  836\n",
            "ageclass               0\n",
            "ageinterp              0\n",
            "dtype: int64\n",
            "===========================\n",
            "incidentid       0\n",
            "weaponcaliber    0\n",
            "weapondetails    0\n",
            "weapontype       0\n",
            "dtype: int64\n"
          ]
        }
      ]
    },
    {
      "cell_type": "markdown",
      "source": [
        "## <font color =\"#00b8ff\">3. Análise Descritiva</font>\n",
        "\n",
        "Realizar análise do dataset, mostrar série histórica, trazer visualizações, etc"
      ],
      "metadata": {
        "id": "fLzhT-DS2GdW"
      }
    },
    {
      "cell_type": "markdown",
      "source": [
        "### <font color =\"#00b8ff\">3.1 Análise de série histórica e geográfica - Duda e Gisele</font>\n",
        "\n",
        "\n"
      ],
      "metadata": {
        "id": "hNru_NnxuIDl"
      }
    },
    {
      "cell_type": "code",
      "source": [],
      "metadata": {
        "id": "ipAkEHQ23Dd_"
      },
      "execution_count": null,
      "outputs": []
    },
    {
      "cell_type": "markdown",
      "source": [
        "### <font color =\"#00b8ff\">3.2 Análise dos Incidentes - João Victor, Hermano e Raffael</font>"
      ],
      "metadata": {
        "id": "MBIeA3TfuTda"
      }
    },
    {
      "cell_type": "code",
      "source": [
        "df_incid.head()"
      ],
      "metadata": {
        "id": "njEqeM3-3C97",
        "colab": {
          "base_uri": "https://localhost:8080/",
          "height": 490
        },
        "outputId": "bd0a9a92-6a12-48f2-c00a-bafaeaba30d7"
      },
      "execution_count": null,
      "outputs": [
        {
          "output_type": "execute_result",
          "data": {
            "text/plain": [
              "     Incident_ID                                            Sources  \\\n",
              "0  20220620ILGRC  https://www.cbsnews.com/chicago/news/woman-and...   \n",
              "1  20220613WAMAE  https://www.q13fox.com/news/deputies-arrest-15...   \n",
              "2  20220610ALBYB  https://www.actionnews5.com/2022/06/10/student...   \n",
              "3  20220609ALWAG  https://www.live5news.com/2022/06/09/potential...   \n",
              "4  20220608ARLIL  https://www.kark.com/crime/lrpd-school-bus-hit...   \n",
              "\n",
              "  Number_News Media_Attention  Reliability       Date Quarter  \\\n",
              "0          50        National            4 2022-06-20  Summer   \n",
              "1           5           Local            4 2022-06-13  Summer   \n",
              "2           3           Local            4 2022-06-10  Summer   \n",
              "3         100        National            4 2022-06-09  Summer   \n",
              "4           5        National            4 2022-06-08  Summer   \n",
              "\n",
              "                            School         City State  ... Officer_Involved  \\\n",
              "0     Gresham School of Excellence      Chicago    IL  ...               No   \n",
              "1              Mariner High School      Everett    WA  ...               No   \n",
              "2              Byhalia High School      Byhalia    MS  ...               No   \n",
              "3    Walnut Park Elementary School      Gadsden    AL  ...          Unknown   \n",
              "4  Little Rock School District Bus  Little Rock    AR  ...               No   \n",
              "\n",
              "   Bullied Domestic_Violence Gang_Related Preplanned Shots_Fired  \\\n",
              "0       No                No      Unknown         No         100   \n",
              "1       No                No      Unknown         No          99   \n",
              "2       No                No      Unknown         No           1   \n",
              "3  Unknown           Unknown      Unknown    Unknown     Unknown   \n",
              "4       No                No      Unknown         No          99   \n",
              "\n",
              "  Active_Shooter_FBI  Year  Month Day  \n",
              "0                 No  2022  Junho  20  \n",
              "1                 No  2022  Junho  13  \n",
              "2                 No  2022  Junho  10  \n",
              "3                 No  2022  Junho   9  \n",
              "4                 No  2022  Junho   8  \n",
              "\n",
              "[5 rows x 33 columns]"
            ],
            "text/html": [
              "\n",
              "  <div id=\"df-75ca2465-c37c-491b-ae3b-953e10f53b90\">\n",
              "    <div class=\"colab-df-container\">\n",
              "      <div>\n",
              "<style scoped>\n",
              "    .dataframe tbody tr th:only-of-type {\n",
              "        vertical-align: middle;\n",
              "    }\n",
              "\n",
              "    .dataframe tbody tr th {\n",
              "        vertical-align: top;\n",
              "    }\n",
              "\n",
              "    .dataframe thead th {\n",
              "        text-align: right;\n",
              "    }\n",
              "</style>\n",
              "<table border=\"1\" class=\"dataframe\">\n",
              "  <thead>\n",
              "    <tr style=\"text-align: right;\">\n",
              "      <th></th>\n",
              "      <th>Incident_ID</th>\n",
              "      <th>Sources</th>\n",
              "      <th>Number_News</th>\n",
              "      <th>Media_Attention</th>\n",
              "      <th>Reliability</th>\n",
              "      <th>Date</th>\n",
              "      <th>Quarter</th>\n",
              "      <th>School</th>\n",
              "      <th>City</th>\n",
              "      <th>State</th>\n",
              "      <th>...</th>\n",
              "      <th>Officer_Involved</th>\n",
              "      <th>Bullied</th>\n",
              "      <th>Domestic_Violence</th>\n",
              "      <th>Gang_Related</th>\n",
              "      <th>Preplanned</th>\n",
              "      <th>Shots_Fired</th>\n",
              "      <th>Active_Shooter_FBI</th>\n",
              "      <th>Year</th>\n",
              "      <th>Month</th>\n",
              "      <th>Day</th>\n",
              "    </tr>\n",
              "  </thead>\n",
              "  <tbody>\n",
              "    <tr>\n",
              "      <th>0</th>\n",
              "      <td>20220620ILGRC</td>\n",
              "      <td>https://www.cbsnews.com/chicago/news/woman-and...</td>\n",
              "      <td>50</td>\n",
              "      <td>National</td>\n",
              "      <td>4</td>\n",
              "      <td>2022-06-20</td>\n",
              "      <td>Summer</td>\n",
              "      <td>Gresham School of Excellence</td>\n",
              "      <td>Chicago</td>\n",
              "      <td>IL</td>\n",
              "      <td>...</td>\n",
              "      <td>No</td>\n",
              "      <td>No</td>\n",
              "      <td>No</td>\n",
              "      <td>Unknown</td>\n",
              "      <td>No</td>\n",
              "      <td>100</td>\n",
              "      <td>No</td>\n",
              "      <td>2022</td>\n",
              "      <td>Junho</td>\n",
              "      <td>20</td>\n",
              "    </tr>\n",
              "    <tr>\n",
              "      <th>1</th>\n",
              "      <td>20220613WAMAE</td>\n",
              "      <td>https://www.q13fox.com/news/deputies-arrest-15...</td>\n",
              "      <td>5</td>\n",
              "      <td>Local</td>\n",
              "      <td>4</td>\n",
              "      <td>2022-06-13</td>\n",
              "      <td>Summer</td>\n",
              "      <td>Mariner High School</td>\n",
              "      <td>Everett</td>\n",
              "      <td>WA</td>\n",
              "      <td>...</td>\n",
              "      <td>No</td>\n",
              "      <td>No</td>\n",
              "      <td>No</td>\n",
              "      <td>Unknown</td>\n",
              "      <td>No</td>\n",
              "      <td>99</td>\n",
              "      <td>No</td>\n",
              "      <td>2022</td>\n",
              "      <td>Junho</td>\n",
              "      <td>13</td>\n",
              "    </tr>\n",
              "    <tr>\n",
              "      <th>2</th>\n",
              "      <td>20220610ALBYB</td>\n",
              "      <td>https://www.actionnews5.com/2022/06/10/student...</td>\n",
              "      <td>3</td>\n",
              "      <td>Local</td>\n",
              "      <td>4</td>\n",
              "      <td>2022-06-10</td>\n",
              "      <td>Summer</td>\n",
              "      <td>Byhalia High School</td>\n",
              "      <td>Byhalia</td>\n",
              "      <td>MS</td>\n",
              "      <td>...</td>\n",
              "      <td>No</td>\n",
              "      <td>No</td>\n",
              "      <td>No</td>\n",
              "      <td>Unknown</td>\n",
              "      <td>No</td>\n",
              "      <td>1</td>\n",
              "      <td>No</td>\n",
              "      <td>2022</td>\n",
              "      <td>Junho</td>\n",
              "      <td>10</td>\n",
              "    </tr>\n",
              "    <tr>\n",
              "      <th>3</th>\n",
              "      <td>20220609ALWAG</td>\n",
              "      <td>https://www.live5news.com/2022/06/09/potential...</td>\n",
              "      <td>100</td>\n",
              "      <td>National</td>\n",
              "      <td>4</td>\n",
              "      <td>2022-06-09</td>\n",
              "      <td>Summer</td>\n",
              "      <td>Walnut Park Elementary School</td>\n",
              "      <td>Gadsden</td>\n",
              "      <td>AL</td>\n",
              "      <td>...</td>\n",
              "      <td>Unknown</td>\n",
              "      <td>Unknown</td>\n",
              "      <td>Unknown</td>\n",
              "      <td>Unknown</td>\n",
              "      <td>Unknown</td>\n",
              "      <td>Unknown</td>\n",
              "      <td>No</td>\n",
              "      <td>2022</td>\n",
              "      <td>Junho</td>\n",
              "      <td>9</td>\n",
              "    </tr>\n",
              "    <tr>\n",
              "      <th>4</th>\n",
              "      <td>20220608ARLIL</td>\n",
              "      <td>https://www.kark.com/crime/lrpd-school-bus-hit...</td>\n",
              "      <td>5</td>\n",
              "      <td>National</td>\n",
              "      <td>4</td>\n",
              "      <td>2022-06-08</td>\n",
              "      <td>Summer</td>\n",
              "      <td>Little Rock School District Bus</td>\n",
              "      <td>Little Rock</td>\n",
              "      <td>AR</td>\n",
              "      <td>...</td>\n",
              "      <td>No</td>\n",
              "      <td>No</td>\n",
              "      <td>No</td>\n",
              "      <td>Unknown</td>\n",
              "      <td>No</td>\n",
              "      <td>99</td>\n",
              "      <td>No</td>\n",
              "      <td>2022</td>\n",
              "      <td>Junho</td>\n",
              "      <td>8</td>\n",
              "    </tr>\n",
              "  </tbody>\n",
              "</table>\n",
              "<p>5 rows × 33 columns</p>\n",
              "</div>\n",
              "      <button class=\"colab-df-convert\" onclick=\"convertToInteractive('df-75ca2465-c37c-491b-ae3b-953e10f53b90')\"\n",
              "              title=\"Convert this dataframe to an interactive table.\"\n",
              "              style=\"display:none;\">\n",
              "        \n",
              "  <svg xmlns=\"http://www.w3.org/2000/svg\" height=\"24px\"viewBox=\"0 0 24 24\"\n",
              "       width=\"24px\">\n",
              "    <path d=\"M0 0h24v24H0V0z\" fill=\"none\"/>\n",
              "    <path d=\"M18.56 5.44l.94 2.06.94-2.06 2.06-.94-2.06-.94-.94-2.06-.94 2.06-2.06.94zm-11 1L8.5 8.5l.94-2.06 2.06-.94-2.06-.94L8.5 2.5l-.94 2.06-2.06.94zm10 10l.94 2.06.94-2.06 2.06-.94-2.06-.94-.94-2.06-.94 2.06-2.06.94z\"/><path d=\"M17.41 7.96l-1.37-1.37c-.4-.4-.92-.59-1.43-.59-.52 0-1.04.2-1.43.59L10.3 9.45l-7.72 7.72c-.78.78-.78 2.05 0 2.83L4 21.41c.39.39.9.59 1.41.59.51 0 1.02-.2 1.41-.59l7.78-7.78 2.81-2.81c.8-.78.8-2.07 0-2.86zM5.41 20L4 18.59l7.72-7.72 1.47 1.35L5.41 20z\"/>\n",
              "  </svg>\n",
              "      </button>\n",
              "      \n",
              "  <style>\n",
              "    .colab-df-container {\n",
              "      display:flex;\n",
              "      flex-wrap:wrap;\n",
              "      gap: 12px;\n",
              "    }\n",
              "\n",
              "    .colab-df-convert {\n",
              "      background-color: #E8F0FE;\n",
              "      border: none;\n",
              "      border-radius: 50%;\n",
              "      cursor: pointer;\n",
              "      display: none;\n",
              "      fill: #1967D2;\n",
              "      height: 32px;\n",
              "      padding: 0 0 0 0;\n",
              "      width: 32px;\n",
              "    }\n",
              "\n",
              "    .colab-df-convert:hover {\n",
              "      background-color: #E2EBFA;\n",
              "      box-shadow: 0px 1px 2px rgba(60, 64, 67, 0.3), 0px 1px 3px 1px rgba(60, 64, 67, 0.15);\n",
              "      fill: #174EA6;\n",
              "    }\n",
              "\n",
              "    [theme=dark] .colab-df-convert {\n",
              "      background-color: #3B4455;\n",
              "      fill: #D2E3FC;\n",
              "    }\n",
              "\n",
              "    [theme=dark] .colab-df-convert:hover {\n",
              "      background-color: #434B5C;\n",
              "      box-shadow: 0px 1px 3px 1px rgba(0, 0, 0, 0.15);\n",
              "      filter: drop-shadow(0px 1px 2px rgba(0, 0, 0, 0.3));\n",
              "      fill: #FFFFFF;\n",
              "    }\n",
              "  </style>\n",
              "\n",
              "      <script>\n",
              "        const buttonEl =\n",
              "          document.querySelector('#df-75ca2465-c37c-491b-ae3b-953e10f53b90 button.colab-df-convert');\n",
              "        buttonEl.style.display =\n",
              "          google.colab.kernel.accessAllowed ? 'block' : 'none';\n",
              "\n",
              "        async function convertToInteractive(key) {\n",
              "          const element = document.querySelector('#df-75ca2465-c37c-491b-ae3b-953e10f53b90');\n",
              "          const dataTable =\n",
              "            await google.colab.kernel.invokeFunction('convertToInteractive',\n",
              "                                                     [key], {});\n",
              "          if (!dataTable) return;\n",
              "\n",
              "          const docLinkHtml = 'Like what you see? Visit the ' +\n",
              "            '<a target=\"_blank\" href=https://colab.research.google.com/notebooks/data_table.ipynb>data table notebook</a>'\n",
              "            + ' to learn more about interactive tables.';\n",
              "          element.innerHTML = '';\n",
              "          dataTable['output_type'] = 'display_data';\n",
              "          await google.colab.output.renderOutput(dataTable, element);\n",
              "          const docLink = document.createElement('div');\n",
              "          docLink.innerHTML = docLinkHtml;\n",
              "          element.appendChild(docLink);\n",
              "        }\n",
              "      </script>\n",
              "    </div>\n",
              "  </div>\n",
              "  "
            ]
          },
          "metadata": {},
          "execution_count": 93
        }
      ]
    },
    {
      "cell_type": "code",
      "source": [
        "df_incid.info()"
      ],
      "metadata": {
        "id": "EFvTsDeO6nAe",
        "colab": {
          "base_uri": "https://localhost:8080/"
        },
        "outputId": "171204b7-d150-41ee-bf28-92d6c713ede7"
      },
      "execution_count": null,
      "outputs": [
        {
          "output_type": "stream",
          "name": "stdout",
          "text": [
            "<class 'pandas.core.frame.DataFrame'>\n",
            "Int64Index: 2069 entries, 0 to 2068\n",
            "Data columns (total 33 columns):\n",
            " #   Column              Non-Null Count  Dtype         \n",
            "---  ------              --------------  -----         \n",
            " 0   Incident_ID         2069 non-null   object        \n",
            " 1   Sources             2069 non-null   object        \n",
            " 2   Number_News         2069 non-null   object        \n",
            " 3   Media_Attention     2069 non-null   object        \n",
            " 4   Reliability         2069 non-null   int64         \n",
            " 5   Date                2069 non-null   datetime64[ns]\n",
            " 6   Quarter             2069 non-null   object        \n",
            " 7   School              2069 non-null   object        \n",
            " 8   City                2069 non-null   object        \n",
            " 9   State               2069 non-null   object        \n",
            " 10  School_Level        2069 non-null   object        \n",
            " 11  Location            2069 non-null   object        \n",
            " 12  Location_Type       2069 non-null   object        \n",
            " 13  During_School       2069 non-null   object        \n",
            " 14  Time_Period         2069 non-null   object        \n",
            " 15  First_Shot          2069 non-null   object        \n",
            " 16  Summary             2069 non-null   object        \n",
            " 17  Narrative           2069 non-null   object        \n",
            " 18  Situation           2069 non-null   object        \n",
            " 19  Targets             2069 non-null   object        \n",
            " 20  Accomplice          2069 non-null   object        \n",
            " 21  Hostages            2069 non-null   object        \n",
            " 22  Barricade           2069 non-null   object        \n",
            " 23  Officer_Involved    2069 non-null   object        \n",
            " 24  Bullied             2069 non-null   object        \n",
            " 25  Domestic_Violence   2069 non-null   object        \n",
            " 26  Gang_Related        2069 non-null   object        \n",
            " 27  Preplanned          2069 non-null   object        \n",
            " 28  Shots_Fired         2069 non-null   object        \n",
            " 29  Active_Shooter_FBI  2069 non-null   object        \n",
            " 30  Year                2069 non-null   int64         \n",
            " 31  Month               2069 non-null   object        \n",
            " 32  Day                 2069 non-null   int64         \n",
            "dtypes: datetime64[ns](1), int64(3), object(29)\n",
            "memory usage: 549.6+ KB\n"
          ]
        }
      ]
    },
    {
      "cell_type": "code",
      "source": [
        "df_incid.describe()"
      ],
      "metadata": {
        "id": "n6_IhHR76oDD",
        "colab": {
          "base_uri": "https://localhost:8080/",
          "height": 300
        },
        "outputId": "502f150f-c3c5-4254-88f9-690e6d5ef8af"
      },
      "execution_count": null,
      "outputs": [
        {
          "output_type": "execute_result",
          "data": {
            "text/plain": [
              "       Reliability         Year          Day\n",
              "count  2069.000000  2069.000000  2069.000000\n",
              "mean      2.766554  2005.714355    15.745771\n",
              "std       0.996184    15.432015     8.732714\n",
              "min       1.000000  1970.000000     1.000000\n",
              "25%       2.000000  1993.000000     9.000000\n",
              "50%       2.000000  2010.000000    15.000000\n",
              "75%       4.000000  2020.000000    23.000000\n",
              "max       5.000000  2022.000000    31.000000"
            ],
            "text/html": [
              "\n",
              "  <div id=\"df-cae8bcfc-5b92-40da-93eb-cdd9735bb163\">\n",
              "    <div class=\"colab-df-container\">\n",
              "      <div>\n",
              "<style scoped>\n",
              "    .dataframe tbody tr th:only-of-type {\n",
              "        vertical-align: middle;\n",
              "    }\n",
              "\n",
              "    .dataframe tbody tr th {\n",
              "        vertical-align: top;\n",
              "    }\n",
              "\n",
              "    .dataframe thead th {\n",
              "        text-align: right;\n",
              "    }\n",
              "</style>\n",
              "<table border=\"1\" class=\"dataframe\">\n",
              "  <thead>\n",
              "    <tr style=\"text-align: right;\">\n",
              "      <th></th>\n",
              "      <th>Reliability</th>\n",
              "      <th>Year</th>\n",
              "      <th>Day</th>\n",
              "    </tr>\n",
              "  </thead>\n",
              "  <tbody>\n",
              "    <tr>\n",
              "      <th>count</th>\n",
              "      <td>2069.000000</td>\n",
              "      <td>2069.000000</td>\n",
              "      <td>2069.000000</td>\n",
              "    </tr>\n",
              "    <tr>\n",
              "      <th>mean</th>\n",
              "      <td>2.766554</td>\n",
              "      <td>2005.714355</td>\n",
              "      <td>15.745771</td>\n",
              "    </tr>\n",
              "    <tr>\n",
              "      <th>std</th>\n",
              "      <td>0.996184</td>\n",
              "      <td>15.432015</td>\n",
              "      <td>8.732714</td>\n",
              "    </tr>\n",
              "    <tr>\n",
              "      <th>min</th>\n",
              "      <td>1.000000</td>\n",
              "      <td>1970.000000</td>\n",
              "      <td>1.000000</td>\n",
              "    </tr>\n",
              "    <tr>\n",
              "      <th>25%</th>\n",
              "      <td>2.000000</td>\n",
              "      <td>1993.000000</td>\n",
              "      <td>9.000000</td>\n",
              "    </tr>\n",
              "    <tr>\n",
              "      <th>50%</th>\n",
              "      <td>2.000000</td>\n",
              "      <td>2010.000000</td>\n",
              "      <td>15.000000</td>\n",
              "    </tr>\n",
              "    <tr>\n",
              "      <th>75%</th>\n",
              "      <td>4.000000</td>\n",
              "      <td>2020.000000</td>\n",
              "      <td>23.000000</td>\n",
              "    </tr>\n",
              "    <tr>\n",
              "      <th>max</th>\n",
              "      <td>5.000000</td>\n",
              "      <td>2022.000000</td>\n",
              "      <td>31.000000</td>\n",
              "    </tr>\n",
              "  </tbody>\n",
              "</table>\n",
              "</div>\n",
              "      <button class=\"colab-df-convert\" onclick=\"convertToInteractive('df-cae8bcfc-5b92-40da-93eb-cdd9735bb163')\"\n",
              "              title=\"Convert this dataframe to an interactive table.\"\n",
              "              style=\"display:none;\">\n",
              "        \n",
              "  <svg xmlns=\"http://www.w3.org/2000/svg\" height=\"24px\"viewBox=\"0 0 24 24\"\n",
              "       width=\"24px\">\n",
              "    <path d=\"M0 0h24v24H0V0z\" fill=\"none\"/>\n",
              "    <path d=\"M18.56 5.44l.94 2.06.94-2.06 2.06-.94-2.06-.94-.94-2.06-.94 2.06-2.06.94zm-11 1L8.5 8.5l.94-2.06 2.06-.94-2.06-.94L8.5 2.5l-.94 2.06-2.06.94zm10 10l.94 2.06.94-2.06 2.06-.94-2.06-.94-.94-2.06-.94 2.06-2.06.94z\"/><path d=\"M17.41 7.96l-1.37-1.37c-.4-.4-.92-.59-1.43-.59-.52 0-1.04.2-1.43.59L10.3 9.45l-7.72 7.72c-.78.78-.78 2.05 0 2.83L4 21.41c.39.39.9.59 1.41.59.51 0 1.02-.2 1.41-.59l7.78-7.78 2.81-2.81c.8-.78.8-2.07 0-2.86zM5.41 20L4 18.59l7.72-7.72 1.47 1.35L5.41 20z\"/>\n",
              "  </svg>\n",
              "      </button>\n",
              "      \n",
              "  <style>\n",
              "    .colab-df-container {\n",
              "      display:flex;\n",
              "      flex-wrap:wrap;\n",
              "      gap: 12px;\n",
              "    }\n",
              "\n",
              "    .colab-df-convert {\n",
              "      background-color: #E8F0FE;\n",
              "      border: none;\n",
              "      border-radius: 50%;\n",
              "      cursor: pointer;\n",
              "      display: none;\n",
              "      fill: #1967D2;\n",
              "      height: 32px;\n",
              "      padding: 0 0 0 0;\n",
              "      width: 32px;\n",
              "    }\n",
              "\n",
              "    .colab-df-convert:hover {\n",
              "      background-color: #E2EBFA;\n",
              "      box-shadow: 0px 1px 2px rgba(60, 64, 67, 0.3), 0px 1px 3px 1px rgba(60, 64, 67, 0.15);\n",
              "      fill: #174EA6;\n",
              "    }\n",
              "\n",
              "    [theme=dark] .colab-df-convert {\n",
              "      background-color: #3B4455;\n",
              "      fill: #D2E3FC;\n",
              "    }\n",
              "\n",
              "    [theme=dark] .colab-df-convert:hover {\n",
              "      background-color: #434B5C;\n",
              "      box-shadow: 0px 1px 3px 1px rgba(0, 0, 0, 0.15);\n",
              "      filter: drop-shadow(0px 1px 2px rgba(0, 0, 0, 0.3));\n",
              "      fill: #FFFFFF;\n",
              "    }\n",
              "  </style>\n",
              "\n",
              "      <script>\n",
              "        const buttonEl =\n",
              "          document.querySelector('#df-cae8bcfc-5b92-40da-93eb-cdd9735bb163 button.colab-df-convert');\n",
              "        buttonEl.style.display =\n",
              "          google.colab.kernel.accessAllowed ? 'block' : 'none';\n",
              "\n",
              "        async function convertToInteractive(key) {\n",
              "          const element = document.querySelector('#df-cae8bcfc-5b92-40da-93eb-cdd9735bb163');\n",
              "          const dataTable =\n",
              "            await google.colab.kernel.invokeFunction('convertToInteractive',\n",
              "                                                     [key], {});\n",
              "          if (!dataTable) return;\n",
              "\n",
              "          const docLinkHtml = 'Like what you see? Visit the ' +\n",
              "            '<a target=\"_blank\" href=https://colab.research.google.com/notebooks/data_table.ipynb>data table notebook</a>'\n",
              "            + ' to learn more about interactive tables.';\n",
              "          element.innerHTML = '';\n",
              "          dataTable['output_type'] = 'display_data';\n",
              "          await google.colab.output.renderOutput(dataTable, element);\n",
              "          const docLink = document.createElement('div');\n",
              "          docLink.innerHTML = docLinkHtml;\n",
              "          element.appendChild(docLink);\n",
              "        }\n",
              "      </script>\n",
              "    </div>\n",
              "  </div>\n",
              "  "
            ]
          },
          "metadata": {},
          "execution_count": 95
        }
      ]
    },
    {
      "cell_type": "code",
      "source": [
        "df_incid['Reliability'].value_counts()\n",
        "confiabilidade = df_incid['Reliability'].value_counts()\n",
        "plt.bar(confiabilidade.index, confiabilidade.values)\n",
        "plt.show()"
      ],
      "metadata": {
        "id": "zMa7j6Zc6nyE",
        "colab": {
          "base_uri": "https://localhost:8080/",
          "height": 430
        },
        "outputId": "23faa8c1-fffd-457d-8561-00d2dc12bbfa"
      },
      "execution_count": null,
      "outputs": [
        {
          "output_type": "display_data",
          "data": {
            "text/plain": [
              "<Figure size 640x480 with 1 Axes>"
            ],
            "image/png": "[encoded data removed]"
          },
          "metadata": {}
        }
      ]
    },
    {
      "cell_type": "code",
      "source": [
        "escola20 = df_incid['School'].value_counts().head(20)\n",
        "fig = plt.figure(figsize=(17, 5))\n",
        "plt.bar(escola20.index, escola20.values)\n",
        "plt.xticks(rotation=90)\n",
        "plt.show()"
      ],
      "metadata": {
        "id": "DZvpvpub6vYW",
        "colab": {
          "base_uri": "https://localhost:8080/",
          "height": 668
        },
        "outputId": "a3b2c690-35d9-4775-dba5-2cd408e5f33d"
      },
      "execution_count": null,
      "outputs": [
        {
          "output_type": "display_data",
          "data": {
            "text/plain": [
              "<Figure size 1700x500 with 1 Axes>"
            ],
            "image/png": "[encoded data removed]"
          },
          "metadata": {}
        }
      ]
    },
    {
      "cell_type": "markdown",
      "source": [
        "### <font color =\"#00b8ff\">3.3 Análise do Violentador</font>"
      ],
      "metadata": {
        "id": "d2oHA-Cpucyt"
      }
    },
    {
      "cell_type": "code",
      "source": [],
      "metadata": {
        "id": "lO2fKoT93BaC"
      },
      "execution_count": null,
      "outputs": []
    },
    {
      "cell_type": "markdown",
      "source": [
        "### <font color =\"#00b8ff\">3.4 Análise das Vítimas</font>"
      ],
      "metadata": {
        "id": "F6CZcYaFuf9q"
      }
    },
    {
      "cell_type": "code",
      "source": [],
      "metadata": {
        "id": "eWXCaFeDAXOL"
      },
      "execution_count": null,
      "outputs": []
    },
    {
      "cell_type": "markdown",
      "source": [
        "### <font color =\"#00b8ff\">3.5 Análise das Armas</font>"
      ],
      "metadata": {
        "id": "IlzizcbcujXL"
      }
    },
    {
      "cell_type": "code",
      "source": [],
      "metadata": {
        "id": "jP0OgVVU3Eyg"
      },
      "execution_count": null,
      "outputs": []
    },
    {
      "cell_type": "markdown",
      "source": [
        "### <font color =\"#00b8ff\">3.6 Regressão Linear</font>"
      ],
      "metadata": {
        "id": "GCEY2NCaykWa"
      }
    },
    {
      "cell_type": "code",
      "source": [],
      "metadata": {
        "id": "rG2fgZ6E3FLt"
      },
      "execution_count": null,
      "outputs": []
    }
  ]
}